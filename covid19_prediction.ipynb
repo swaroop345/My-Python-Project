{
  "metadata": {
    "kernelspec": {
      "language": "python",
      "display_name": "Python 3",
      "name": "python3"
    },
    "language_info": {
      "pygments_lexer": "ipython3",
      "nbconvert_exporter": "python",
      "version": "3.6.4",
      "file_extension": ".py",
      "codemirror_mode": {
        "name": "ipython",
        "version": 3
      },
      "name": "python",
      "mimetype": "text/x-python"
    },
    "colab": {
      "provenance": []
    }
  },
  "nbformat_minor": 0,
  "nbformat": 4,
  "cells": [
    {
      "cell_type": "markdown",
      "source": [
        "#COVID-19\n",
        "\n",
        "\n",
        "---\n",
        "\n",
        "\n",
        "\n",
        "---\n",
        "\n",
        "A speedy and accurate diagnosis of COVID-19 is made possible by effective SARS-CoV-2 screening, which can also lessen the burden on healthcare systems. There have been built prediction models that assess the likelihood of infection by combining a number of parameters. These are meant to help medical professionals all over the world treat patients, especially in light of the scarcity of healthcare resources. The current dataset has been downloaded from ‘ABC’ government website and contains around 2,78,848 individuals who have gone through the RT-PCR test. Data set contains 11 columns, including 8 features suspected to play an important role in the prediction of COVID19 outcome. Outcome variable is covid result test positive or negative. We have data from 11th March 2020 till 30th April 2020. Please consider 11th March till 15th April as a training and validation set. From 16th April till 30th April as a test set. Please further divide training and validation set at a ratio of 4:1.  \n",
        "\n",
        "The following list describes each of the dataset’s features used by the model:\n",
        "\n",
        "\n",
        "A. Basic information:\n",
        "\n",
        "1. ID (Individual ID)\n",
        "\n",
        "2. Sex (male/female).\n",
        "\n",
        "3. Age ≥60 above years (true/false)\n",
        "\n",
        "4. Test date (date when tested for COVID)\n",
        "\n",
        "\n",
        "B. Symptoms:\n",
        "\n",
        "5. Cough (true/false).\n",
        "\n",
        "6. Fever (true/false).\n",
        "\n",
        "7. Sore throat (true/false).\n",
        "\n",
        "8. Shortness of breath (true/false).\n",
        "\n",
        "9. Headache (true/false).\n",
        "\n",
        "\n",
        "C. Other information:\n",
        "\n",
        "10. Known contact with an individual confirmed to have COVID-19 (true/false).\n",
        "\n",
        "\n",
        "D. Covid report\n",
        "\n",
        "11. Corona positive or negative\n",
        "\n"
      ],
      "metadata": {
        "id": "sn2W1nOzbN8_"
      }
    },
    {
      "cell_type": "code",
      "source": [
        "# Importing required libraries for data maniplation\n",
        "\n",
        "import pandas as pd\n",
        "import numpy as np\n",
        "\n",
        "# Importing required libraries for data Visualzation\n",
        "\n",
        "import matplotlib.pyplot as plt\n",
        "import seaborn as sns\n",
        "\n"
      ],
      "metadata": {
        "id": "UlBqY0-TqzcX",
        "execution": {
          "iopub.status.busy": "2023-07-26T06:06:00.738585Z",
          "iopub.execute_input": "2023-07-26T06:06:00.739497Z",
          "iopub.status.idle": "2023-07-26T06:06:02.613482Z",
          "shell.execute_reply.started": "2023-07-26T06:06:00.739425Z",
          "shell.execute_reply": "2023-07-26T06:06:02.612374Z"
        },
        "trusted": true
      },
      "execution_count": null,
      "outputs": []
    },
    {
      "cell_type": "code",
      "source": [
        "Data = pd.read_csv(\"/content/corona_tested_006.csv\")"
      ],
      "metadata": {
        "id": "i7LP4qOQuxM5",
        "execution": {
          "iopub.status.busy": "2023-07-26T06:06:02.616036Z",
          "iopub.execute_input": "2023-07-26T06:06:02.616775Z",
          "iopub.status.idle": "2023-07-26T06:06:03.330488Z",
          "shell.execute_reply.started": "2023-07-26T06:06:02.616731Z",
          "shell.execute_reply": "2023-07-26T06:06:03.328978Z"
        },
        "trusted": true
      },
      "execution_count": null,
      "outputs": []
    },
    {
      "cell_type": "code",
      "source": [
        "Data.head(10) # ------------- Checking datatypes and some other features of the first ten records in dataset dataset"
      ],
      "metadata": {
        "id": "I5QJROVwraIa",
        "execution": {
          "iopub.status.busy": "2023-07-26T06:06:03.338137Z",
          "iopub.execute_input": "2023-07-26T06:06:03.339179Z",
          "iopub.status.idle": "2023-07-26T06:06:03.373159Z",
          "shell.execute_reply.started": "2023-07-26T06:06:03.339134Z",
          "shell.execute_reply": "2023-07-26T06:06:03.372105Z"
        },
        "trusted": true,
        "colab": {
          "base_uri": "https://localhost:8080/",
          "height": 363
        },
        "outputId": "8da2fcea-fa6b-45d6-aaa2-55042b7b1110"
      },
      "execution_count": null,
      "outputs": [
        {
          "output_type": "execute_result",
          "data": {
            "text/plain": [
              "   Ind_ID   Test_date Cough_symptoms  Fever Sore_throat Shortness_of_breath  \\\n",
              "0       1  11-03-2020           TRUE  FALSE        TRUE               FALSE   \n",
              "1       2  11-03-2020          FALSE   TRUE       FALSE               FALSE   \n",
              "2       3  11-03-2020          FALSE   TRUE       FALSE               FALSE   \n",
              "3       4  11-03-2020           TRUE  FALSE       FALSE               FALSE   \n",
              "4       5  11-03-2020           TRUE  FALSE       FALSE               FALSE   \n",
              "5       6  11-03-2020           TRUE  FALSE       FALSE               FALSE   \n",
              "6       7  11-03-2020          FALSE  FALSE       FALSE               FALSE   \n",
              "7       8  11-03-2020          FALSE   TRUE       FALSE               FALSE   \n",
              "8       9  11-03-2020           TRUE  FALSE       FALSE               FALSE   \n",
              "9      10  11-03-2020           TRUE  FALSE        TRUE               FALSE   \n",
              "\n",
              "  Headache    Corona Age_60_above   Sex           Known_contact  \n",
              "0    FALSE  negative         None  None                  Abroad  \n",
              "1    FALSE  positive         None  None                  Abroad  \n",
              "2    FALSE  positive         None  None                  Abroad  \n",
              "3    FALSE  negative         None  None                  Abroad  \n",
              "4    FALSE  negative         None  None  Contact with confirmed  \n",
              "5    FALSE     other         None  None  Contact with confirmed  \n",
              "6    FALSE  negative         None  None                   Other  \n",
              "7    FALSE  negative         None  None                  Abroad  \n",
              "8    FALSE  negative         None  None                  Abroad  \n",
              "9    FALSE  negative         None  None                  Abroad  "
            ],
            "text/html": [
              "\n",
              "  <div id=\"df-171ca086-dda1-416c-99d5-04434851c8e4\" class=\"colab-df-container\">\n",
              "    <div>\n",
              "<style scoped>\n",
              "    .dataframe tbody tr th:only-of-type {\n",
              "        vertical-align: middle;\n",
              "    }\n",
              "\n",
              "    .dataframe tbody tr th {\n",
              "        vertical-align: top;\n",
              "    }\n",
              "\n",
              "    .dataframe thead th {\n",
              "        text-align: right;\n",
              "    }\n",
              "</style>\n",
              "<table border=\"1\" class=\"dataframe\">\n",
              "  <thead>\n",
              "    <tr style=\"text-align: right;\">\n",
              "      <th></th>\n",
              "      <th>Ind_ID</th>\n",
              "      <th>Test_date</th>\n",
              "      <th>Cough_symptoms</th>\n",
              "      <th>Fever</th>\n",
              "      <th>Sore_throat</th>\n",
              "      <th>Shortness_of_breath</th>\n",
              "      <th>Headache</th>\n",
              "      <th>Corona</th>\n",
              "      <th>Age_60_above</th>\n",
              "      <th>Sex</th>\n",
              "      <th>Known_contact</th>\n",
              "    </tr>\n",
              "  </thead>\n",
              "  <tbody>\n",
              "    <tr>\n",
              "      <th>0</th>\n",
              "      <td>1</td>\n",
              "      <td>11-03-2020</td>\n",
              "      <td>TRUE</td>\n",
              "      <td>FALSE</td>\n",
              "      <td>TRUE</td>\n",
              "      <td>FALSE</td>\n",
              "      <td>FALSE</td>\n",
              "      <td>negative</td>\n",
              "      <td>None</td>\n",
              "      <td>None</td>\n",
              "      <td>Abroad</td>\n",
              "    </tr>\n",
              "    <tr>\n",
              "      <th>1</th>\n",
              "      <td>2</td>\n",
              "      <td>11-03-2020</td>\n",
              "      <td>FALSE</td>\n",
              "      <td>TRUE</td>\n",
              "      <td>FALSE</td>\n",
              "      <td>FALSE</td>\n",
              "      <td>FALSE</td>\n",
              "      <td>positive</td>\n",
              "      <td>None</td>\n",
              "      <td>None</td>\n",
              "      <td>Abroad</td>\n",
              "    </tr>\n",
              "    <tr>\n",
              "      <th>2</th>\n",
              "      <td>3</td>\n",
              "      <td>11-03-2020</td>\n",
              "      <td>FALSE</td>\n",
              "      <td>TRUE</td>\n",
              "      <td>FALSE</td>\n",
              "      <td>FALSE</td>\n",
              "      <td>FALSE</td>\n",
              "      <td>positive</td>\n",
              "      <td>None</td>\n",
              "      <td>None</td>\n",
              "      <td>Abroad</td>\n",
              "    </tr>\n",
              "    <tr>\n",
              "      <th>3</th>\n",
              "      <td>4</td>\n",
              "      <td>11-03-2020</td>\n",
              "      <td>TRUE</td>\n",
              "      <td>FALSE</td>\n",
              "      <td>FALSE</td>\n",
              "      <td>FALSE</td>\n",
              "      <td>FALSE</td>\n",
              "      <td>negative</td>\n",
              "      <td>None</td>\n",
              "      <td>None</td>\n",
              "      <td>Abroad</td>\n",
              "    </tr>\n",
              "    <tr>\n",
              "      <th>4</th>\n",
              "      <td>5</td>\n",
              "      <td>11-03-2020</td>\n",
              "      <td>TRUE</td>\n",
              "      <td>FALSE</td>\n",
              "      <td>FALSE</td>\n",
              "      <td>FALSE</td>\n",
              "      <td>FALSE</td>\n",
              "      <td>negative</td>\n",
              "      <td>None</td>\n",
              "      <td>None</td>\n",
              "      <td>Contact with confirmed</td>\n",
              "    </tr>\n",
              "    <tr>\n",
              "      <th>5</th>\n",
              "      <td>6</td>\n",
              "      <td>11-03-2020</td>\n",
              "      <td>TRUE</td>\n",
              "      <td>FALSE</td>\n",
              "      <td>FALSE</td>\n",
              "      <td>FALSE</td>\n",
              "      <td>FALSE</td>\n",
              "      <td>other</td>\n",
              "      <td>None</td>\n",
              "      <td>None</td>\n",
              "      <td>Contact with confirmed</td>\n",
              "    </tr>\n",
              "    <tr>\n",
              "      <th>6</th>\n",
              "      <td>7</td>\n",
              "      <td>11-03-2020</td>\n",
              "      <td>FALSE</td>\n",
              "      <td>FALSE</td>\n",
              "      <td>FALSE</td>\n",
              "      <td>FALSE</td>\n",
              "      <td>FALSE</td>\n",
              "      <td>negative</td>\n",
              "      <td>None</td>\n",
              "      <td>None</td>\n",
              "      <td>Other</td>\n",
              "    </tr>\n",
              "    <tr>\n",
              "      <th>7</th>\n",
              "      <td>8</td>\n",
              "      <td>11-03-2020</td>\n",
              "      <td>FALSE</td>\n",
              "      <td>TRUE</td>\n",
              "      <td>FALSE</td>\n",
              "      <td>FALSE</td>\n",
              "      <td>FALSE</td>\n",
              "      <td>negative</td>\n",
              "      <td>None</td>\n",
              "      <td>None</td>\n",
              "      <td>Abroad</td>\n",
              "    </tr>\n",
              "    <tr>\n",
              "      <th>8</th>\n",
              "      <td>9</td>\n",
              "      <td>11-03-2020</td>\n",
              "      <td>TRUE</td>\n",
              "      <td>FALSE</td>\n",
              "      <td>FALSE</td>\n",
              "      <td>FALSE</td>\n",
              "      <td>FALSE</td>\n",
              "      <td>negative</td>\n",
              "      <td>None</td>\n",
              "      <td>None</td>\n",
              "      <td>Abroad</td>\n",
              "    </tr>\n",
              "    <tr>\n",
              "      <th>9</th>\n",
              "      <td>10</td>\n",
              "      <td>11-03-2020</td>\n",
              "      <td>TRUE</td>\n",
              "      <td>FALSE</td>\n",
              "      <td>TRUE</td>\n",
              "      <td>FALSE</td>\n",
              "      <td>FALSE</td>\n",
              "      <td>negative</td>\n",
              "      <td>None</td>\n",
              "      <td>None</td>\n",
              "      <td>Abroad</td>\n",
              "    </tr>\n",
              "  </tbody>\n",
              "</table>\n",
              "</div>\n",
              "    <div class=\"colab-df-buttons\">\n",
              "\n",
              "  <div class=\"colab-df-container\">\n",
              "    <button class=\"colab-df-convert\" onclick=\"convertToInteractive('df-171ca086-dda1-416c-99d5-04434851c8e4')\"\n",
              "            title=\"Convert this dataframe to an interactive table.\"\n",
              "            style=\"display:none;\">\n",
              "\n",
              "  <svg xmlns=\"http://www.w3.org/2000/svg\" height=\"24px\" viewBox=\"0 -960 960 960\">\n",
              "    <path d=\"M120-120v-720h720v720H120Zm60-500h600v-160H180v160Zm220 220h160v-160H400v160Zm0 220h160v-160H400v160ZM180-400h160v-160H180v160Zm440 0h160v-160H620v160ZM180-180h160v-160H180v160Zm440 0h160v-160H620v160Z\"/>\n",
              "  </svg>\n",
              "    </button>\n",
              "\n",
              "  <style>\n",
              "    .colab-df-container {\n",
              "      display:flex;\n",
              "      gap: 12px;\n",
              "    }\n",
              "\n",
              "    .colab-df-convert {\n",
              "      background-color: #E8F0FE;\n",
              "      border: none;\n",
              "      border-radius: 50%;\n",
              "      cursor: pointer;\n",
              "      display: none;\n",
              "      fill: #1967D2;\n",
              "      height: 32px;\n",
              "      padding: 0 0 0 0;\n",
              "      width: 32px;\n",
              "    }\n",
              "\n",
              "    .colab-df-convert:hover {\n",
              "      background-color: #E2EBFA;\n",
              "      box-shadow: 0px 1px 2px rgba(60, 64, 67, 0.3), 0px 1px 3px 1px rgba(60, 64, 67, 0.15);\n",
              "      fill: #174EA6;\n",
              "    }\n",
              "\n",
              "    .colab-df-buttons div {\n",
              "      margin-bottom: 4px;\n",
              "    }\n",
              "\n",
              "    [theme=dark] .colab-df-convert {\n",
              "      background-color: #3B4455;\n",
              "      fill: #D2E3FC;\n",
              "    }\n",
              "\n",
              "    [theme=dark] .colab-df-convert:hover {\n",
              "      background-color: #434B5C;\n",
              "      box-shadow: 0px 1px 3px 1px rgba(0, 0, 0, 0.15);\n",
              "      filter: drop-shadow(0px 1px 2px rgba(0, 0, 0, 0.3));\n",
              "      fill: #FFFFFF;\n",
              "    }\n",
              "  </style>\n",
              "\n",
              "    <script>\n",
              "      const buttonEl =\n",
              "        document.querySelector('#df-171ca086-dda1-416c-99d5-04434851c8e4 button.colab-df-convert');\n",
              "      buttonEl.style.display =\n",
              "        google.colab.kernel.accessAllowed ? 'block' : 'none';\n",
              "\n",
              "      async function convertToInteractive(key) {\n",
              "        const element = document.querySelector('#df-171ca086-dda1-416c-99d5-04434851c8e4');\n",
              "        const dataTable =\n",
              "          await google.colab.kernel.invokeFunction('convertToInteractive',\n",
              "                                                    [key], {});\n",
              "        if (!dataTable) return;\n",
              "\n",
              "        const docLinkHtml = 'Like what you see? Visit the ' +\n",
              "          '<a target=\"_blank\" href=https://colab.research.google.com/notebooks/data_table.ipynb>data table notebook</a>'\n",
              "          + ' to learn more about interactive tables.';\n",
              "        element.innerHTML = '';\n",
              "        dataTable['output_type'] = 'display_data';\n",
              "        await google.colab.output.renderOutput(dataTable, element);\n",
              "        const docLink = document.createElement('div');\n",
              "        docLink.innerHTML = docLinkHtml;\n",
              "        element.appendChild(docLink);\n",
              "      }\n",
              "    </script>\n",
              "  </div>\n",
              "\n",
              "\n",
              "<div id=\"df-e82a7a94-f24b-466b-b1a4-261fe7e55fff\">\n",
              "  <button class=\"colab-df-quickchart\" onclick=\"quickchart('df-e82a7a94-f24b-466b-b1a4-261fe7e55fff')\"\n",
              "            title=\"Suggest charts.\"\n",
              "            style=\"display:none;\">\n",
              "\n",
              "<svg xmlns=\"http://www.w3.org/2000/svg\" height=\"24px\"viewBox=\"0 0 24 24\"\n",
              "     width=\"24px\">\n",
              "    <g>\n",
              "        <path d=\"M19 3H5c-1.1 0-2 .9-2 2v14c0 1.1.9 2 2 2h14c1.1 0 2-.9 2-2V5c0-1.1-.9-2-2-2zM9 17H7v-7h2v7zm4 0h-2V7h2v10zm4 0h-2v-4h2v4z\"/>\n",
              "    </g>\n",
              "</svg>\n",
              "  </button>\n",
              "\n",
              "<style>\n",
              "  .colab-df-quickchart {\n",
              "      --bg-color: #E8F0FE;\n",
              "      --fill-color: #1967D2;\n",
              "      --hover-bg-color: #E2EBFA;\n",
              "      --hover-fill-color: #174EA6;\n",
              "      --disabled-fill-color: #AAA;\n",
              "      --disabled-bg-color: #DDD;\n",
              "  }\n",
              "\n",
              "  [theme=dark] .colab-df-quickchart {\n",
              "      --bg-color: #3B4455;\n",
              "      --fill-color: #D2E3FC;\n",
              "      --hover-bg-color: #434B5C;\n",
              "      --hover-fill-color: #FFFFFF;\n",
              "      --disabled-bg-color: #3B4455;\n",
              "      --disabled-fill-color: #666;\n",
              "  }\n",
              "\n",
              "  .colab-df-quickchart {\n",
              "    background-color: var(--bg-color);\n",
              "    border: none;\n",
              "    border-radius: 50%;\n",
              "    cursor: pointer;\n",
              "    display: none;\n",
              "    fill: var(--fill-color);\n",
              "    height: 32px;\n",
              "    padding: 0;\n",
              "    width: 32px;\n",
              "  }\n",
              "\n",
              "  .colab-df-quickchart:hover {\n",
              "    background-color: var(--hover-bg-color);\n",
              "    box-shadow: 0 1px 2px rgba(60, 64, 67, 0.3), 0 1px 3px 1px rgba(60, 64, 67, 0.15);\n",
              "    fill: var(--button-hover-fill-color);\n",
              "  }\n",
              "\n",
              "  .colab-df-quickchart-complete:disabled,\n",
              "  .colab-df-quickchart-complete:disabled:hover {\n",
              "    background-color: var(--disabled-bg-color);\n",
              "    fill: var(--disabled-fill-color);\n",
              "    box-shadow: none;\n",
              "  }\n",
              "\n",
              "  .colab-df-spinner {\n",
              "    border: 2px solid var(--fill-color);\n",
              "    border-color: transparent;\n",
              "    border-bottom-color: var(--fill-color);\n",
              "    animation:\n",
              "      spin 1s steps(1) infinite;\n",
              "  }\n",
              "\n",
              "  @keyframes spin {\n",
              "    0% {\n",
              "      border-color: transparent;\n",
              "      border-bottom-color: var(--fill-color);\n",
              "      border-left-color: var(--fill-color);\n",
              "    }\n",
              "    20% {\n",
              "      border-color: transparent;\n",
              "      border-left-color: var(--fill-color);\n",
              "      border-top-color: var(--fill-color);\n",
              "    }\n",
              "    30% {\n",
              "      border-color: transparent;\n",
              "      border-left-color: var(--fill-color);\n",
              "      border-top-color: var(--fill-color);\n",
              "      border-right-color: var(--fill-color);\n",
              "    }\n",
              "    40% {\n",
              "      border-color: transparent;\n",
              "      border-right-color: var(--fill-color);\n",
              "      border-top-color: var(--fill-color);\n",
              "    }\n",
              "    60% {\n",
              "      border-color: transparent;\n",
              "      border-right-color: var(--fill-color);\n",
              "    }\n",
              "    80% {\n",
              "      border-color: transparent;\n",
              "      border-right-color: var(--fill-color);\n",
              "      border-bottom-color: var(--fill-color);\n",
              "    }\n",
              "    90% {\n",
              "      border-color: transparent;\n",
              "      border-bottom-color: var(--fill-color);\n",
              "    }\n",
              "  }\n",
              "</style>\n",
              "\n",
              "  <script>\n",
              "    async function quickchart(key) {\n",
              "      const quickchartButtonEl =\n",
              "        document.querySelector('#' + key + ' button');\n",
              "      quickchartButtonEl.disabled = true;  // To prevent multiple clicks.\n",
              "      quickchartButtonEl.classList.add('colab-df-spinner');\n",
              "      try {\n",
              "        const charts = await google.colab.kernel.invokeFunction(\n",
              "            'suggestCharts', [key], {});\n",
              "      } catch (error) {\n",
              "        console.error('Error during call to suggestCharts:', error);\n",
              "      }\n",
              "      quickchartButtonEl.classList.remove('colab-df-spinner');\n",
              "      quickchartButtonEl.classList.add('colab-df-quickchart-complete');\n",
              "    }\n",
              "    (() => {\n",
              "      let quickchartButtonEl =\n",
              "        document.querySelector('#df-e82a7a94-f24b-466b-b1a4-261fe7e55fff button');\n",
              "      quickchartButtonEl.style.display =\n",
              "        google.colab.kernel.accessAllowed ? 'block' : 'none';\n",
              "    })();\n",
              "  </script>\n",
              "</div>\n",
              "    </div>\n",
              "  </div>\n"
            ]
          },
          "metadata": {},
          "execution_count": 4
        }
      ]
    },
    {
      "cell_type": "code",
      "source": [
        "Data.info()"
      ],
      "metadata": {
        "id": "VCqspJnXwLsD",
        "execution": {
          "iopub.status.busy": "2023-07-26T06:06:03.374642Z",
          "iopub.execute_input": "2023-07-26T06:06:03.375306Z",
          "iopub.status.idle": "2023-07-26T06:06:04.377258Z",
          "shell.execute_reply.started": "2023-07-26T06:06:03.37527Z",
          "shell.execute_reply": "2023-07-26T06:06:04.376262Z"
        },
        "trusted": true,
        "colab": {
          "base_uri": "https://localhost:8080/"
        },
        "outputId": "a1fc0074-ff42-4ed2-829a-5b56f94eac72"
      },
      "execution_count": null,
      "outputs": [
        {
          "output_type": "stream",
          "name": "stdout",
          "text": [
            "<class 'pandas.core.frame.DataFrame'>\n",
            "RangeIndex: 57802 entries, 0 to 57801\n",
            "Data columns (total 11 columns):\n",
            " #   Column               Non-Null Count  Dtype \n",
            "---  ------               --------------  ----- \n",
            " 0   Ind_ID               57802 non-null  int64 \n",
            " 1   Test_date            57802 non-null  object\n",
            " 2   Cough_symptoms       57802 non-null  object\n",
            " 3   Fever                57802 non-null  object\n",
            " 4   Sore_throat          57802 non-null  object\n",
            " 5   Shortness_of_breath  57802 non-null  object\n",
            " 6   Headache             57802 non-null  object\n",
            " 7   Corona               57802 non-null  object\n",
            " 8   Age_60_above         57802 non-null  object\n",
            " 9   Sex                  57802 non-null  object\n",
            " 10  Known_contact        57802 non-null  object\n",
            "dtypes: int64(1), object(10)\n",
            "memory usage: 4.9+ MB\n"
          ]
        }
      ]
    },
    {
      "cell_type": "code",
      "source": [
        "print(\"Age_60_above\",Data['Age_60_above'].unique())\n",
        "print(\"Sex\",Data['Sex'].unique())\n",
        "print(\"Known_contact\",Data['Known_contact'].unique())\n",
        "print(\"Corona\",Data['Corona'].unique())\n",
        "print(\"Cough_symptoms\",Data['Cough_symptoms'].unique())"
      ],
      "metadata": {
        "id": "v5SQ3sVozMeB",
        "execution": {
          "iopub.status.busy": "2023-07-26T06:06:04.378713Z",
          "iopub.execute_input": "2023-07-26T06:06:04.379511Z",
          "iopub.status.idle": "2023-07-26T06:06:04.505853Z",
          "shell.execute_reply.started": "2023-07-26T06:06:04.379449Z",
          "shell.execute_reply": "2023-07-26T06:06:04.504316Z"
        },
        "trusted": true,
        "colab": {
          "base_uri": "https://localhost:8080/"
        },
        "outputId": "8cf85013-5898-4706-d495-ba2d8b5c3969"
      },
      "execution_count": null,
      "outputs": [
        {
          "output_type": "stream",
          "name": "stdout",
          "text": [
            "Age_60_above ['None' 'No' 'Yes']\n",
            "Sex ['None' 'male' 'female']\n",
            "Known_contact ['Abroad' 'Contact with confirmed' 'Other' 'Othe']\n",
            "Corona ['negative' 'positive' 'other']\n",
            "Cough_symptoms ['TRUE' 'FALSE' 'None']\n"
          ]
        }
      ]
    },
    {
      "cell_type": "code",
      "source": [
        "Data.isnull().sum()"
      ],
      "metadata": {
        "id": "mJm3sN6-wZ_b",
        "execution": {
          "iopub.status.busy": "2023-07-26T06:06:04.508167Z",
          "iopub.execute_input": "2023-07-26T06:06:04.508653Z",
          "iopub.status.idle": "2023-07-26T06:06:05.44613Z",
          "shell.execute_reply.started": "2023-07-26T06:06:04.508602Z",
          "shell.execute_reply": "2023-07-26T06:06:05.444985Z"
        },
        "trusted": true,
        "colab": {
          "base_uri": "https://localhost:8080/"
        },
        "outputId": "8fa9598e-9abd-44bc-ccba-4f826567d11f"
      },
      "execution_count": null,
      "outputs": [
        {
          "output_type": "execute_result",
          "data": {
            "text/plain": [
              "Ind_ID                 0\n",
              "Test_date              0\n",
              "Cough_symptoms         0\n",
              "Fever                  0\n",
              "Sore_throat            0\n",
              "Shortness_of_breath    0\n",
              "Headache               0\n",
              "Corona                 0\n",
              "Age_60_above           0\n",
              "Sex                    0\n",
              "Known_contact          0\n",
              "dtype: int64"
            ]
          },
          "metadata": {},
          "execution_count": 7
        }
      ]
    },
    {
      "cell_type": "markdown",
      "source": [
        "###DATA PREPROCESSING"
      ],
      "metadata": {
        "id": "6545TOKn6fEL"
      }
    },
    {
      "cell_type": "code",
      "source": [
        "objects_data = pd.DataFrame(Data.dtypes =='object').reset_index()\n",
        "object_type = objects_data[objects_data[0] == True]['index']\n",
        "object_type"
      ],
      "metadata": {
        "id": "F32aWxICZdBk",
        "execution": {
          "iopub.status.busy": "2023-07-26T06:06:05.447874Z",
          "iopub.execute_input": "2023-07-26T06:06:05.448918Z",
          "iopub.status.idle": "2023-07-26T06:06:05.46344Z",
          "shell.execute_reply.started": "2023-07-26T06:06:05.448881Z",
          "shell.execute_reply": "2023-07-26T06:06:05.462208Z"
        },
        "trusted": true,
        "colab": {
          "base_uri": "https://localhost:8080/"
        },
        "outputId": "873aed6c-8fd5-45da-98c6-01383505582f"
      },
      "execution_count": null,
      "outputs": [
        {
          "output_type": "execute_result",
          "data": {
            "text/plain": [
              "1               Test_date\n",
              "2          Cough_symptoms\n",
              "3                   Fever\n",
              "4             Sore_throat\n",
              "5     Shortness_of_breath\n",
              "6                Headache\n",
              "7                  Corona\n",
              "8            Age_60_above\n",
              "9                     Sex\n",
              "10          Known_contact\n",
              "Name: index, dtype: object"
            ]
          },
          "metadata": {},
          "execution_count": 8
        }
      ]
    },
    {
      "cell_type": "code",
      "source": [
        "Data.info()"
      ],
      "metadata": {
        "id": "BWyTGn63c-6F",
        "execution": {
          "iopub.status.busy": "2023-07-26T06:06:05.465178Z",
          "iopub.execute_input": "2023-07-26T06:06:05.465582Z",
          "iopub.status.idle": "2023-07-26T06:06:06.445893Z",
          "shell.execute_reply.started": "2023-07-26T06:06:05.465541Z",
          "shell.execute_reply": "2023-07-26T06:06:06.444644Z"
        },
        "trusted": true,
        "colab": {
          "base_uri": "https://localhost:8080/"
        },
        "outputId": "b2948237-043e-4e72-8f07-6282e6d62c25"
      },
      "execution_count": null,
      "outputs": [
        {
          "output_type": "stream",
          "name": "stdout",
          "text": [
            "<class 'pandas.core.frame.DataFrame'>\n",
            "RangeIndex: 57802 entries, 0 to 57801\n",
            "Data columns (total 11 columns):\n",
            " #   Column               Non-Null Count  Dtype \n",
            "---  ------               --------------  ----- \n",
            " 0   Ind_ID               57802 non-null  int64 \n",
            " 1   Test_date            57802 non-null  object\n",
            " 2   Cough_symptoms       57802 non-null  object\n",
            " 3   Fever                57802 non-null  object\n",
            " 4   Sore_throat          57802 non-null  object\n",
            " 5   Shortness_of_breath  57802 non-null  object\n",
            " 6   Headache             57802 non-null  object\n",
            " 7   Corona               57802 non-null  object\n",
            " 8   Age_60_above         57802 non-null  object\n",
            " 9   Sex                  57802 non-null  object\n",
            " 10  Known_contact        57802 non-null  object\n",
            "dtypes: int64(1), object(10)\n",
            "memory usage: 4.9+ MB\n"
          ]
        }
      ]
    },
    {
      "cell_type": "markdown",
      "source": [
        "###DATA VISUALIZATION"
      ],
      "metadata": {
        "id": "SC0sxc-D6iTc"
      }
    },
    {
      "cell_type": "markdown",
      "source": [
        "***Verifing that what symptoms(i.e features) are effecting Covid-19 mostly***"
      ],
      "metadata": {
        "id": "HTexvI5Y6Di1"
      }
    },
    {
      "cell_type": "code",
      "source": [
        "sns.countplot(Data, hue = 'Sex', x = Data['Corona'])\n",
        "sns.set(style='whitegrid')"
      ],
      "metadata": {
        "id": "PtllkohA5sDi",
        "execution": {
          "iopub.status.busy": "2023-07-26T06:06:06.452403Z",
          "iopub.execute_input": "2023-07-26T06:06:06.453086Z",
          "iopub.status.idle": "2023-07-26T06:06:07.677223Z",
          "shell.execute_reply.started": "2023-07-26T06:06:06.45304Z",
          "shell.execute_reply": "2023-07-26T06:06:07.673271Z"
        },
        "trusted": true,
        "colab": {
          "base_uri": "https://localhost:8080/",
          "height": 449
        },
        "outputId": "1aba8672-37ad-4a95-bc2f-08c3f4abc307"
      },
      "execution_count": null,
      "outputs": [
        {
          "output_type": "display_data",
          "data": {
            "text/plain": [
              "<Figure size 640x480 with 1 Axes>"
            ],
            "image/png": "[encoded data removed]"
          },
          "metadata": {}
        }
      ]
    },
    {
      "cell_type": "code",
      "source": [
        "sns.countplot(Data, x = Data['Corona'],hue='Fever')\n",
        "sns.set(style='whitegrid')"
      ],
      "metadata": {
        "id": "5YQU8t8d5tZ-",
        "execution": {
          "iopub.status.busy": "2023-07-26T06:06:07.678962Z",
          "iopub.execute_input": "2023-07-26T06:06:07.679431Z",
          "iopub.status.idle": "2023-07-26T06:06:09.051271Z",
          "shell.execute_reply.started": "2023-07-26T06:06:07.679383Z",
          "shell.execute_reply": "2023-07-26T06:06:09.049719Z"
        },
        "trusted": true,
        "colab": {
          "base_uri": "https://localhost:8080/",
          "height": 458
        },
        "outputId": "0c4a0dfd-90d5-4793-888d-abf89203e2c9"
      },
      "execution_count": null,
      "outputs": [
        {
          "output_type": "display_data",
          "data": {
            "text/plain": [
              "<Figure size 640x480 with 1 Axes>"
            ],
            "image/png": "[encoded data removed]"
          },
          "metadata": {}
        }
      ]
    },
    {
      "cell_type": "code",
      "source": [
        "sns.countplot(Data, x = Data['Corona'],hue='Sore_throat')\n",
        "sns.set(style='whitegrid')"
      ],
      "metadata": {
        "id": "PDUTxSh55ybd",
        "execution": {
          "iopub.status.busy": "2023-07-26T06:06:09.05334Z",
          "iopub.execute_input": "2023-07-26T06:06:09.054772Z",
          "iopub.status.idle": "2023-07-26T06:06:10.436938Z",
          "shell.execute_reply.started": "2023-07-26T06:06:09.054718Z",
          "shell.execute_reply": "2023-07-26T06:06:10.435556Z"
        },
        "trusted": true,
        "colab": {
          "base_uri": "https://localhost:8080/",
          "height": 458
        },
        "outputId": "50a45671-c524-4222-a5b5-01681ccb11ba"
      },
      "execution_count": null,
      "outputs": [
        {
          "output_type": "display_data",
          "data": {
            "text/plain": [
              "<Figure size 640x480 with 1 Axes>"
            ],
            "image/png": "[encoded data removed]"
          },
          "metadata": {}
        }
      ]
    },
    {
      "cell_type": "code",
      "source": [
        "sns.countplot(Data, x = Data['Corona'],hue='Headache')\n",
        "sns.set(style='whitegrid')"
      ],
      "metadata": {
        "id": "nhiLP5yd51mN",
        "execution": {
          "iopub.status.busy": "2023-07-26T06:06:10.438594Z",
          "iopub.execute_input": "2023-07-26T06:06:10.439053Z",
          "iopub.status.idle": "2023-07-26T06:06:11.824712Z",
          "shell.execute_reply.started": "2023-07-26T06:06:10.43901Z",
          "shell.execute_reply": "2023-07-26T06:06:11.82321Z"
        },
        "trusted": true,
        "colab": {
          "base_uri": "https://localhost:8080/",
          "height": 458
        },
        "outputId": "649a988f-3a64-4619-c801-6861c0a610f2"
      },
      "execution_count": null,
      "outputs": [
        {
          "output_type": "display_data",
          "data": {
            "text/plain": [
              "<Figure size 640x480 with 1 Axes>"
            ],
            "image/png": "[encoded data removed]"
          },
          "metadata": {}
        }
      ]
    },
    {
      "cell_type": "code",
      "source": [
        "sns.countplot(Data, x = Data['Corona'],hue='Age_60_above')\n",
        "sns.set(style='whitegrid')"
      ],
      "metadata": {
        "id": "oZoRBOHj55uc",
        "execution": {
          "iopub.status.busy": "2023-07-26T06:06:11.82634Z",
          "iopub.execute_input": "2023-07-26T06:06:11.826839Z",
          "iopub.status.idle": "2023-07-26T06:06:13.015266Z",
          "shell.execute_reply.started": "2023-07-26T06:06:11.826796Z",
          "shell.execute_reply": "2023-07-26T06:06:13.014026Z"
        },
        "trusted": true,
        "colab": {
          "base_uri": "https://localhost:8080/",
          "height": 458
        },
        "outputId": "cd2cc081-45c3-4b41-888c-fc0f2965f17f"
      },
      "execution_count": null,
      "outputs": [
        {
          "output_type": "display_data",
          "data": {
            "text/plain": [
              "<Figure size 640x480 with 1 Axes>"
            ],
            "image/png": "[encoded data removed]"
          },
          "metadata": {}
        }
      ]
    },
    {
      "cell_type": "code",
      "source": [
        "sns.countplot(Data, x = Data['Corona'],hue='Known_contact')\n",
        "sns.set(style='whitegrid')"
      ],
      "metadata": {
        "id": "Jcwu5Elt57bd",
        "execution": {
          "iopub.status.busy": "2023-07-26T06:06:13.016754Z",
          "iopub.execute_input": "2023-07-26T06:06:13.017136Z",
          "iopub.status.idle": "2023-07-26T06:06:14.208571Z",
          "shell.execute_reply.started": "2023-07-26T06:06:13.017102Z",
          "shell.execute_reply": "2023-07-26T06:06:14.207583Z"
        },
        "trusted": true,
        "colab": {
          "base_uri": "https://localhost:8080/",
          "height": 458
        },
        "outputId": "1e7b0527-e0a9-4475-ca57-4edfdecccadc"
      },
      "execution_count": null,
      "outputs": [
        {
          "output_type": "display_data",
          "data": {
            "text/plain": [
              "<Figure size 640x480 with 1 Axes>"
            ],
            "image/png": "[encoded data removed]"
          },
          "metadata": {}
        }
      ]
    },
    {
      "cell_type": "code",
      "source": [
        "sns.countplot(Data, x = Data['Corona'],hue='Cough_symptoms')\n",
        "sns.set(style='whitegrid')"
      ],
      "metadata": {
        "id": "KRBrYtap59N-",
        "execution": {
          "iopub.status.busy": "2023-07-26T06:06:14.209864Z",
          "iopub.execute_input": "2023-07-26T06:06:14.211093Z",
          "iopub.status.idle": "2023-07-26T06:06:15.543925Z",
          "shell.execute_reply.started": "2023-07-26T06:06:14.211054Z",
          "shell.execute_reply": "2023-07-26T06:06:15.542797Z"
        },
        "trusted": true,
        "colab": {
          "base_uri": "https://localhost:8080/",
          "height": 458
        },
        "outputId": "fb1924df-dfb1-45c3-9630-2a8687a3865a"
      },
      "execution_count": null,
      "outputs": [
        {
          "output_type": "display_data",
          "data": {
            "text/plain": [
              "<Figure size 640x480 with 1 Axes>"
            ],
            "image/png": "[encoded data removed]"
          },
          "metadata": {}
        }
      ]
    },
    {
      "cell_type": "markdown",
      "source": [
        "**conculsion:**\n",
        "1. the number of people who got Covid test report as negitve is higher than the number of people who got Covid test report as positve\n",
        "2. the sum of positively reported male people number is higher than female\n",
        "3. The number of negtively reported people who got fever is lesser than the number of negtively reported people who did not get fever. And the people who got fever or not are postively reported for Covid-19 is almost equal in number. So that, fever is not considerable symptom actually in case of covid.\n",
        "4. the number of positvely reported people who got sore_troat is very less as compared to  the number of positvely reported people who did not get sore_troat and the number of negtively reported people who did not sore_troat. So that, sore_troat is also not considerable symptom for Covid-19.\n",
        "5. the reporting of symptom headache is similar to sore_troat,\n",
        "6. the reporting of Age_60_above is similar to sore_troat\n",
        "7. the one known_contact who got confirmed for positively reported people is heigher than other, so that feture known_contract with comformed persons is considerable\n",
        "8. the number of postively reported people who has symptom cough or not is alomost equal and other hand the number of  negtively reported people who got cough is heigher than the number of positively reported people\n",
        "\n",
        "----\n",
        "Therefore, the positevly reported people with smytoms are less compared to the negtively reported people with symptoms.\n",
        "\n",
        "these symptoms are not acceptable to predict Covid-19 except the ***Cough symptom ***\n"
      ],
      "metadata": {
        "id": "Alrkhk5Z6Kv4"
      }
    },
    {
      "cell_type": "markdown",
      "source": [
        "#FEATURE ENGINEERING"
      ],
      "metadata": {
        "id": "CuUgtGeO6rs3"
      }
    },
    {
      "cell_type": "markdown",
      "source": [
        "####FEATURE SELECTION AND TRANSFORMATION"
      ],
      "metadata": {
        "id": "Lk6bQpS86zMN"
      }
    },
    {
      "cell_type": "code",
      "source": [
        "from sklearn.preprocessing import LabelEncoder\n",
        "# Define the custom mappings\n",
        "custom_mappings = {\n",
        "    'Cough_symptoms': {'TRUE': 1, 'FALSE': 0, 'None': -1},\n",
        "    'Fever': {'TRUE': 1, 'FALSE': 0, 'None': -1},\n",
        "    'Sore_throat': {'TRUE': 1, 'FALSE': 0, 'None': -1},\n",
        "    'Shortness_of_breath': {'TRUE': 1, 'FALSE': 0, 'None': -1},\n",
        "    'Headache': {'TRUE': 1, 'FALSE': 0, 'None': -1},\n",
        "    'Corona': {'negative': 0, 'positive': 1, 'None': -1},\n",
        "    'Age_60_above': {'None': -1, 'No': 0, 'Yes': 1},\n",
        "    'Sex': {'None': -1, 'male': 1, 'female': 2},\n",
        "    'Known_contact': {'Abroad': 1, 'Contact with confirmed': 2, 'Other': 3, 'None': -1}\n",
        "}\n",
        "\n",
        "# Apply label encoding with custom mappings\n",
        "for column, mappings in custom_mappings.items():\n",
        "    le = LabelEncoder()\n",
        "    Data[column] = Data[column].map(mappings).fillna(-1)  # Using -1 as a placeholder for missing or unknown values in the label encoding process should not have a significant impact on data modeling, as long as you handle it appropriately in your modeling pipeline.\n",
        "\n",
        "# Print the updated dataset\n",
        "print(Data)\n",
        "\n",
        "\n",
        "\n"
      ],
      "metadata": {
        "id": "f9wqMa6DyLYN",
        "execution": {
          "iopub.status.busy": "2023-07-26T06:06:15.545491Z",
          "iopub.execute_input": "2023-07-26T06:06:15.545925Z",
          "iopub.status.idle": "2023-07-26T06:06:16.175118Z",
          "shell.execute_reply.started": "2023-07-26T06:06:15.545885Z",
          "shell.execute_reply": "2023-07-26T06:06:16.173586Z"
        },
        "trusted": true,
        "colab": {
          "base_uri": "https://localhost:8080/"
        },
        "outputId": "9f61e751-31d5-4277-c63d-2189d60dfd17"
      },
      "execution_count": null,
      "outputs": [
        {
          "output_type": "stream",
          "name": "stdout",
          "text": [
            "       Ind_ID   Test_date  Cough_symptoms  Fever  Sore_throat  \\\n",
            "0           1  11-03-2020               1      0            1   \n",
            "1           2  11-03-2020               0      1            0   \n",
            "2           3  11-03-2020               0      1            0   \n",
            "3           4  11-03-2020               1      0            0   \n",
            "4           5  11-03-2020               1      0            0   \n",
            "...       ...         ...             ...    ...          ...   \n",
            "57797   57798  30-03-2020               1      1            0   \n",
            "57798   57799  30-03-2020               0      0            0   \n",
            "57799   57800  30-03-2020               0      0            0   \n",
            "57800   57801  30-03-2020               0      0            0   \n",
            "57801   57802  30-03-2020               0      0            0   \n",
            "\n",
            "       Shortness_of_breath  Headache  Corona  Age_60_above  Sex  Known_contact  \n",
            "0                        0         0     0.0            -1   -1            1.0  \n",
            "1                        0         0     1.0            -1   -1            1.0  \n",
            "2                        0         0     1.0            -1   -1            1.0  \n",
            "3                        0         0     0.0            -1   -1            1.0  \n",
            "4                        0         0     0.0            -1   -1            2.0  \n",
            "...                    ...       ...     ...           ...  ...            ...  \n",
            "57797                    0         0     1.0             1    1            1.0  \n",
            "57798                    0         0     0.0             1    2            3.0  \n",
            "57799                    0         0    -1.0             0    2            2.0  \n",
            "57800                    0         0     0.0             0    2            3.0  \n",
            "57801                    0         0     0.0             0    1           -1.0  \n",
            "\n",
            "[57802 rows x 11 columns]\n"
          ]
        }
      ]
    },
    {
      "cell_type": "code",
      "source": [
        "# Removing the index column\n",
        "Data.reset_index(drop=True, inplace=True)"
      ],
      "metadata": {
        "id": "e6S4dNMdfYIn",
        "execution": {
          "iopub.status.busy": "2023-07-26T06:06:16.176953Z",
          "iopub.execute_input": "2023-07-26T06:06:16.177861Z",
          "iopub.status.idle": "2023-07-26T06:06:16.184498Z",
          "shell.execute_reply.started": "2023-07-26T06:06:16.177814Z",
          "shell.execute_reply": "2023-07-26T06:06:16.182979Z"
        },
        "trusted": true
      },
      "execution_count": null,
      "outputs": []
    },
    {
      "cell_type": "code",
      "source": [
        "Data = Data.drop(['Test_date'],axis=1)"
      ],
      "metadata": {
        "id": "VoRJRNqLgt_-",
        "execution": {
          "iopub.status.busy": "2023-07-26T06:06:16.186337Z",
          "iopub.execute_input": "2023-07-26T06:06:16.186837Z",
          "iopub.status.idle": "2023-07-26T06:06:16.217533Z",
          "shell.execute_reply.started": "2023-07-26T06:06:16.18679Z",
          "shell.execute_reply": "2023-07-26T06:06:16.216464Z"
        },
        "trusted": true
      },
      "execution_count": null,
      "outputs": []
    },
    {
      "cell_type": "code",
      "source": [
        "Data.head(5)"
      ],
      "metadata": {
        "id": "OThaCGBCCQwy",
        "execution": {
          "iopub.status.busy": "2023-07-26T06:06:16.218661Z",
          "iopub.execute_input": "2023-07-26T06:06:16.219089Z",
          "iopub.status.idle": "2023-07-26T06:06:16.253109Z",
          "shell.execute_reply.started": "2023-07-26T06:06:16.219048Z",
          "shell.execute_reply": "2023-07-26T06:06:16.25198Z"
        },
        "trusted": true,
        "colab": {
          "base_uri": "https://localhost:8080/",
          "height": 206
        },
        "outputId": "9f18a8aa-579e-4606-e5c3-b856018701e0"
      },
      "execution_count": null,
      "outputs": [
        {
          "output_type": "execute_result",
          "data": {
            "text/plain": [
              "   Ind_ID  Cough_symptoms  Fever  Sore_throat  Shortness_of_breath  Headache  \\\n",
              "0       1               1      0            1                    0         0   \n",
              "1       2               0      1            0                    0         0   \n",
              "2       3               0      1            0                    0         0   \n",
              "3       4               1      0            0                    0         0   \n",
              "4       5               1      0            0                    0         0   \n",
              "\n",
              "   Corona  Age_60_above  Sex  Known_contact  \n",
              "0     0.0            -1   -1            1.0  \n",
              "1     1.0            -1   -1            1.0  \n",
              "2     1.0            -1   -1            1.0  \n",
              "3     0.0            -1   -1            1.0  \n",
              "4     0.0            -1   -1            2.0  "
            ],
            "text/html": [
              "\n",
              "  <div id=\"df-a047054e-43fb-4171-8af6-60815fa0f5a6\" class=\"colab-df-container\">\n",
              "    <div>\n",
              "<style scoped>\n",
              "    .dataframe tbody tr th:only-of-type {\n",
              "        vertical-align: middle;\n",
              "    }\n",
              "\n",
              "    .dataframe tbody tr th {\n",
              "        vertical-align: top;\n",
              "    }\n",
              "\n",
              "    .dataframe thead th {\n",
              "        text-align: right;\n",
              "    }\n",
              "</style>\n",
              "<table border=\"1\" class=\"dataframe\">\n",
              "  <thead>\n",
              "    <tr style=\"text-align: right;\">\n",
              "      <th></th>\n",
              "      <th>Ind_ID</th>\n",
              "      <th>Cough_symptoms</th>\n",
              "      <th>Fever</th>\n",
              "      <th>Sore_throat</th>\n",
              "      <th>Shortness_of_breath</th>\n",
              "      <th>Headache</th>\n",
              "      <th>Corona</th>\n",
              "      <th>Age_60_above</th>\n",
              "      <th>Sex</th>\n",
              "      <th>Known_contact</th>\n",
              "    </tr>\n",
              "  </thead>\n",
              "  <tbody>\n",
              "    <tr>\n",
              "      <th>0</th>\n",
              "      <td>1</td>\n",
              "      <td>1</td>\n",
              "      <td>0</td>\n",
              "      <td>1</td>\n",
              "      <td>0</td>\n",
              "      <td>0</td>\n",
              "      <td>0.0</td>\n",
              "      <td>-1</td>\n",
              "      <td>-1</td>\n",
              "      <td>1.0</td>\n",
              "    </tr>\n",
              "    <tr>\n",
              "      <th>1</th>\n",
              "      <td>2</td>\n",
              "      <td>0</td>\n",
              "      <td>1</td>\n",
              "      <td>0</td>\n",
              "      <td>0</td>\n",
              "      <td>0</td>\n",
              "      <td>1.0</td>\n",
              "      <td>-1</td>\n",
              "      <td>-1</td>\n",
              "      <td>1.0</td>\n",
              "    </tr>\n",
              "    <tr>\n",
              "      <th>2</th>\n",
              "      <td>3</td>\n",
              "      <td>0</td>\n",
              "      <td>1</td>\n",
              "      <td>0</td>\n",
              "      <td>0</td>\n",
              "      <td>0</td>\n",
              "      <td>1.0</td>\n",
              "      <td>-1</td>\n",
              "      <td>-1</td>\n",
              "      <td>1.0</td>\n",
              "    </tr>\n",
              "    <tr>\n",
              "      <th>3</th>\n",
              "      <td>4</td>\n",
              "      <td>1</td>\n",
              "      <td>0</td>\n",
              "      <td>0</td>\n",
              "      <td>0</td>\n",
              "      <td>0</td>\n",
              "      <td>0.0</td>\n",
              "      <td>-1</td>\n",
              "      <td>-1</td>\n",
              "      <td>1.0</td>\n",
              "    </tr>\n",
              "    <tr>\n",
              "      <th>4</th>\n",
              "      <td>5</td>\n",
              "      <td>1</td>\n",
              "      <td>0</td>\n",
              "      <td>0</td>\n",
              "      <td>0</td>\n",
              "      <td>0</td>\n",
              "      <td>0.0</td>\n",
              "      <td>-1</td>\n",
              "      <td>-1</td>\n",
              "      <td>2.0</td>\n",
              "    </tr>\n",
              "  </tbody>\n",
              "</table>\n",
              "</div>\n",
              "    <div class=\"colab-df-buttons\">\n",
              "\n",
              "  <div class=\"colab-df-container\">\n",
              "    <button class=\"colab-df-convert\" onclick=\"convertToInteractive('df-a047054e-43fb-4171-8af6-60815fa0f5a6')\"\n",
              "            title=\"Convert this dataframe to an interactive table.\"\n",
              "            style=\"display:none;\">\n",
              "\n",
              "  <svg xmlns=\"http://www.w3.org/2000/svg\" height=\"24px\" viewBox=\"0 -960 960 960\">\n",
              "    <path d=\"M120-120v-720h720v720H120Zm60-500h600v-160H180v160Zm220 220h160v-160H400v160Zm0 220h160v-160H400v160ZM180-400h160v-160H180v160Zm440 0h160v-160H620v160ZM180-180h160v-160H180v160Zm440 0h160v-160H620v160Z\"/>\n",
              "  </svg>\n",
              "    </button>\n",
              "\n",
              "  <style>\n",
              "    .colab-df-container {\n",
              "      display:flex;\n",
              "      gap: 12px;\n",
              "    }\n",
              "\n",
              "    .colab-df-convert {\n",
              "      background-color: #E8F0FE;\n",
              "      border: none;\n",
              "      border-radius: 50%;\n",
              "      cursor: pointer;\n",
              "      display: none;\n",
              "      fill: #1967D2;\n",
              "      height: 32px;\n",
              "      padding: 0 0 0 0;\n",
              "      width: 32px;\n",
              "    }\n",
              "\n",
              "    .colab-df-convert:hover {\n",
              "      background-color: #E2EBFA;\n",
              "      box-shadow: 0px 1px 2px rgba(60, 64, 67, 0.3), 0px 1px 3px 1px rgba(60, 64, 67, 0.15);\n",
              "      fill: #174EA6;\n",
              "    }\n",
              "\n",
              "    .colab-df-buttons div {\n",
              "      margin-bottom: 4px;\n",
              "    }\n",
              "\n",
              "    [theme=dark] .colab-df-convert {\n",
              "      background-color: #3B4455;\n",
              "      fill: #D2E3FC;\n",
              "    }\n",
              "\n",
              "    [theme=dark] .colab-df-convert:hover {\n",
              "      background-color: #434B5C;\n",
              "      box-shadow: 0px 1px 3px 1px rgba(0, 0, 0, 0.15);\n",
              "      filter: drop-shadow(0px 1px 2px rgba(0, 0, 0, 0.3));\n",
              "      fill: #FFFFFF;\n",
              "    }\n",
              "  </style>\n",
              "\n",
              "    <script>\n",
              "      const buttonEl =\n",
              "        document.querySelector('#df-a047054e-43fb-4171-8af6-60815fa0f5a6 button.colab-df-convert');\n",
              "      buttonEl.style.display =\n",
              "        google.colab.kernel.accessAllowed ? 'block' : 'none';\n",
              "\n",
              "      async function convertToInteractive(key) {\n",
              "        const element = document.querySelector('#df-a047054e-43fb-4171-8af6-60815fa0f5a6');\n",
              "        const dataTable =\n",
              "          await google.colab.kernel.invokeFunction('convertToInteractive',\n",
              "                                                    [key], {});\n",
              "        if (!dataTable) return;\n",
              "\n",
              "        const docLinkHtml = 'Like what you see? Visit the ' +\n",
              "          '<a target=\"_blank\" href=https://colab.research.google.com/notebooks/data_table.ipynb>data table notebook</a>'\n",
              "          + ' to learn more about interactive tables.';\n",
              "        element.innerHTML = '';\n",
              "        dataTable['output_type'] = 'display_data';\n",
              "        await google.colab.output.renderOutput(dataTable, element);\n",
              "        const docLink = document.createElement('div');\n",
              "        docLink.innerHTML = docLinkHtml;\n",
              "        element.appendChild(docLink);\n",
              "      }\n",
              "    </script>\n",
              "  </div>\n",
              "\n",
              "\n",
              "<div id=\"df-8bed58f4-0793-453c-bb99-15e854459562\">\n",
              "  <button class=\"colab-df-quickchart\" onclick=\"quickchart('df-8bed58f4-0793-453c-bb99-15e854459562')\"\n",
              "            title=\"Suggest charts.\"\n",
              "            style=\"display:none;\">\n",
              "\n",
              "<svg xmlns=\"http://www.w3.org/2000/svg\" height=\"24px\"viewBox=\"0 0 24 24\"\n",
              "     width=\"24px\">\n",
              "    <g>\n",
              "        <path d=\"M19 3H5c-1.1 0-2 .9-2 2v14c0 1.1.9 2 2 2h14c1.1 0 2-.9 2-2V5c0-1.1-.9-2-2-2zM9 17H7v-7h2v7zm4 0h-2V7h2v10zm4 0h-2v-4h2v4z\"/>\n",
              "    </g>\n",
              "</svg>\n",
              "  </button>\n",
              "\n",
              "<style>\n",
              "  .colab-df-quickchart {\n",
              "      --bg-color: #E8F0FE;\n",
              "      --fill-color: #1967D2;\n",
              "      --hover-bg-color: #E2EBFA;\n",
              "      --hover-fill-color: #174EA6;\n",
              "      --disabled-fill-color: #AAA;\n",
              "      --disabled-bg-color: #DDD;\n",
              "  }\n",
              "\n",
              "  [theme=dark] .colab-df-quickchart {\n",
              "      --bg-color: #3B4455;\n",
              "      --fill-color: #D2E3FC;\n",
              "      --hover-bg-color: #434B5C;\n",
              "      --hover-fill-color: #FFFFFF;\n",
              "      --disabled-bg-color: #3B4455;\n",
              "      --disabled-fill-color: #666;\n",
              "  }\n",
              "\n",
              "  .colab-df-quickchart {\n",
              "    background-color: var(--bg-color);\n",
              "    border: none;\n",
              "    border-radius: 50%;\n",
              "    cursor: pointer;\n",
              "    display: none;\n",
              "    fill: var(--fill-color);\n",
              "    height: 32px;\n",
              "    padding: 0;\n",
              "    width: 32px;\n",
              "  }\n",
              "\n",
              "  .colab-df-quickchart:hover {\n",
              "    background-color: var(--hover-bg-color);\n",
              "    box-shadow: 0 1px 2px rgba(60, 64, 67, 0.3), 0 1px 3px 1px rgba(60, 64, 67, 0.15);\n",
              "    fill: var(--button-hover-fill-color);\n",
              "  }\n",
              "\n",
              "  .colab-df-quickchart-complete:disabled,\n",
              "  .colab-df-quickchart-complete:disabled:hover {\n",
              "    background-color: var(--disabled-bg-color);\n",
              "    fill: var(--disabled-fill-color);\n",
              "    box-shadow: none;\n",
              "  }\n",
              "\n",
              "  .colab-df-spinner {\n",
              "    border: 2px solid var(--fill-color);\n",
              "    border-color: transparent;\n",
              "    border-bottom-color: var(--fill-color);\n",
              "    animation:\n",
              "      spin 1s steps(1) infinite;\n",
              "  }\n",
              "\n",
              "  @keyframes spin {\n",
              "    0% {\n",
              "      border-color: transparent;\n",
              "      border-bottom-color: var(--fill-color);\n",
              "      border-left-color: var(--fill-color);\n",
              "    }\n",
              "    20% {\n",
              "      border-color: transparent;\n",
              "      border-left-color: var(--fill-color);\n",
              "      border-top-color: var(--fill-color);\n",
              "    }\n",
              "    30% {\n",
              "      border-color: transparent;\n",
              "      border-left-color: var(--fill-color);\n",
              "      border-top-color: var(--fill-color);\n",
              "      border-right-color: var(--fill-color);\n",
              "    }\n",
              "    40% {\n",
              "      border-color: transparent;\n",
              "      border-right-color: var(--fill-color);\n",
              "      border-top-color: var(--fill-color);\n",
              "    }\n",
              "    60% {\n",
              "      border-color: transparent;\n",
              "      border-right-color: var(--fill-color);\n",
              "    }\n",
              "    80% {\n",
              "      border-color: transparent;\n",
              "      border-right-color: var(--fill-color);\n",
              "      border-bottom-color: var(--fill-color);\n",
              "    }\n",
              "    90% {\n",
              "      border-color: transparent;\n",
              "      border-bottom-color: var(--fill-color);\n",
              "    }\n",
              "  }\n",
              "</style>\n",
              "\n",
              "  <script>\n",
              "    async function quickchart(key) {\n",
              "      const quickchartButtonEl =\n",
              "        document.querySelector('#' + key + ' button');\n",
              "      quickchartButtonEl.disabled = true;  // To prevent multiple clicks.\n",
              "      quickchartButtonEl.classList.add('colab-df-spinner');\n",
              "      try {\n",
              "        const charts = await google.colab.kernel.invokeFunction(\n",
              "            'suggestCharts', [key], {});\n",
              "      } catch (error) {\n",
              "        console.error('Error during call to suggestCharts:', error);\n",
              "      }\n",
              "      quickchartButtonEl.classList.remove('colab-df-spinner');\n",
              "      quickchartButtonEl.classList.add('colab-df-quickchart-complete');\n",
              "    }\n",
              "    (() => {\n",
              "      let quickchartButtonEl =\n",
              "        document.querySelector('#df-8bed58f4-0793-453c-bb99-15e854459562 button');\n",
              "      quickchartButtonEl.style.display =\n",
              "        google.colab.kernel.accessAllowed ? 'block' : 'none';\n",
              "    })();\n",
              "  </script>\n",
              "</div>\n",
              "    </div>\n",
              "  </div>\n"
            ]
          },
          "metadata": {},
          "execution_count": 20
        }
      ]
    },
    {
      "cell_type": "code",
      "source": [
        "# Calculate total count and percentage of each category for categorical features\n",
        "categorical_features = ['Cough_symptoms', 'Fever', 'Sore_throat', 'Shortness_of_breath', 'Headache', 'Corona', 'Age_60_above', 'Sex', 'Known_contact']\n",
        "\n",
        "for feature in categorical_features:\n",
        "    feature_count = Data[feature].value_counts()\n",
        "    total_count = len(Data)\n",
        "    percentages = feature_count / total_count * 100\n",
        "\n",
        "    print(f\"\\nCharacteristic of feature '{feature}':\")\n",
        "    print(\"-------------------------------\")\n",
        "    print(\"Category\\tCount\\tPercentage\")\n",
        "    print(\"-------------------------------\")\n",
        "    for category, count in feature_count.items():\n",
        "        percentage = percentages[category]\n",
        "        print(f\"{category}\\t{count}\\t{percentage:.2f}%\")\n"
      ],
      "metadata": {
        "id": "XaD_JhV6jVAn",
        "execution": {
          "iopub.status.busy": "2023-07-26T06:06:16.254715Z",
          "iopub.execute_input": "2023-07-26T06:06:16.255363Z",
          "iopub.status.idle": "2023-07-26T06:06:16.308917Z",
          "shell.execute_reply.started": "2023-07-26T06:06:16.255326Z",
          "shell.execute_reply": "2023-07-26T06:06:16.307572Z"
        },
        "trusted": true,
        "colab": {
          "base_uri": "https://localhost:8080/"
        },
        "outputId": "09a89b38-f0c1-4cd7-ab2f-07ead86511c2"
      },
      "execution_count": null,
      "outputs": [
        {
          "output_type": "stream",
          "name": "stdout",
          "text": [
            "\n",
            "Characteristic of feature 'Cough_symptoms':\n",
            "-------------------------------\n",
            "Category\tCount\tPercentage\n",
            "-------------------------------\n",
            "0\t48689\t84.23%\n",
            "1\t9087\t15.72%\n",
            "-1\t26\t0.04%\n",
            "\n",
            "Characteristic of feature 'Fever':\n",
            "-------------------------------\n",
            "Category\tCount\tPercentage\n",
            "-------------------------------\n",
            "0\t52350\t90.57%\n",
            "1\t5426\t9.39%\n",
            "-1\t26\t0.04%\n",
            "\n",
            "Characteristic of feature 'Sore_throat':\n",
            "-------------------------------\n",
            "Category\tCount\tPercentage\n",
            "-------------------------------\n",
            "0\t56736\t98.16%\n",
            "1\t1065\t1.84%\n",
            "-1\t1\t0.00%\n",
            "\n",
            "Characteristic of feature 'Shortness_of_breath':\n",
            "-------------------------------\n",
            "Category\tCount\tPercentage\n",
            "-------------------------------\n",
            "0\t56779\t98.23%\n",
            "1\t1022\t1.77%\n",
            "-1\t1\t0.00%\n",
            "\n",
            "Characteristic of feature 'Headache':\n",
            "-------------------------------\n",
            "Category\tCount\tPercentage\n",
            "-------------------------------\n",
            "0\t56561\t97.85%\n",
            "1\t1240\t2.15%\n",
            "-1\t1\t0.00%\n",
            "\n",
            "Characteristic of feature 'Corona':\n",
            "-------------------------------\n",
            "Category\tCount\tPercentage\n",
            "-------------------------------\n",
            "0.0\t51884\t89.76%\n",
            "1.0\t4907\t8.49%\n",
            "-1.0\t1011\t1.75%\n",
            "\n",
            "Characteristic of feature 'Age_60_above':\n",
            "-------------------------------\n",
            "Category\tCount\tPercentage\n",
            "-------------------------------\n",
            "0\t45586\t78.87%\n",
            "1\t7704\t13.33%\n",
            "-1\t4512\t7.81%\n",
            "\n",
            "Characteristic of feature 'Sex':\n",
            "-------------------------------\n",
            "Category\tCount\tPercentage\n",
            "-------------------------------\n",
            "2\t21681\t37.51%\n",
            "1\t21303\t36.86%\n",
            "-1\t14818\t25.64%\n",
            "\n",
            "Characteristic of feature 'Known_contact':\n",
            "-------------------------------\n",
            "Category\tCount\tPercentage\n",
            "-------------------------------\n",
            "3.0\t48458\t83.83%\n",
            "1.0\t6040\t10.45%\n",
            "2.0\t3303\t5.71%\n",
            "-1.0\t1\t0.00%\n"
          ]
        }
      ]
    },
    {
      "cell_type": "markdown",
      "source": [
        "#MODEL SELECTION, TRAIN AND EVALUATION"
      ],
      "metadata": {
        "id": "3zdbBgKO7IIK"
      }
    },
    {
      "cell_type": "code",
      "source": [
        " from sklearn.model_selection import train_test_split\n",
        "# Split the data into training and testing sets\n",
        "X = Data.drop('Corona', axis=1)\n",
        "y = Data['Corona']\n",
        "X_train, X_test, y_train, y_test = train_test_split(X, y, test_size=0.2, random_state=42)"
      ],
      "metadata": {
        "id": "QTVyjIwXjpCq",
        "execution": {
          "iopub.status.busy": "2023-07-26T06:08:17.196365Z",
          "iopub.execute_input": "2023-07-26T06:08:17.19695Z",
          "iopub.status.idle": "2023-07-26T06:08:17.434945Z",
          "shell.execute_reply.started": "2023-07-26T06:08:17.196901Z",
          "shell.execute_reply": "2023-07-26T06:08:17.433541Z"
        },
        "trusted": true
      },
      "execution_count": null,
      "outputs": []
    },
    {
      "cell_type": "code",
      "source": [
        "\n",
        "from sklearn.ensemble import RandomForestClassifier\n",
        "from sklearn.linear_model import LogisticRegression\n",
        "from sklearn.svm import SVC\n",
        "from sklearn.neighbors import KNeighborsClassifier\n",
        "from sklearn.naive_bayes import GaussianNB\n",
        "from sklearn.tree import DecisionTreeClassifier\n",
        "from sklearn.metrics import accuracy_score, precision_score, recall_score, f1_score\n",
        "# Split the data into training and testing sets\n",
        "X = Data.drop('Corona', axis=1)\n",
        "y = Data['Corona']\n",
        "X_train, X_test, y_train, y_test = train_test_split(X, y, test_size=0.2, random_state=42)\n",
        "\n",
        "# Initialize the models\n",
        "models = {\n",
        "    'Random Forest': RandomForestClassifier(),\n",
        "    'Logistic Regression': LogisticRegression(),\n",
        "    'SVM': SVC(),\n",
        "    'K-Nearest Neighbors': KNeighborsClassifier(),\n",
        "    'Naive Bayes': GaussianNB(),\n",
        "    'Decision Tree': DecisionTreeClassifier()\n",
        "}\n",
        "\n",
        "# Create a function to evaluate the models\n",
        "def evaluate_model(model, X_test, y_test):\n",
        "    y_pred = model.predict(X_test)\n",
        "    accuracy = accuracy_score(y_test, y_pred)\n",
        "    precision = precision_score(y_test, y_pred, average='weighted')\n",
        "    recall = recall_score(y_test, y_pred, average='weighted')\n",
        "    f1 = f1_score(y_test, y_pred, average='weighted')\n",
        "    return accuracy, precision, recall, f1\n",
        "\n",
        "# Train and evaluate all the models\n",
        "for model_name, model in models.items():\n",
        "    model.fit(X_train, y_train)\n",
        "    accuracy, precision, recall, f1 = evaluate_model(model, X_test, y_test)\n",
        "    print(f\"\\nModel: {model_name}\")\n",
        "    print(f\"Accuracy: {accuracy:.2f}\")\n",
        "    print(f\"Precision: {precision:.2f}\")\n",
        "    print(f\"Recall: {recall:.2f}\")\n",
        "    print(f\"F1 Score: {f1:.2f}\")\n"
      ],
      "metadata": {
        "id": "NeC1o-SWn0yD",
        "execution": {
          "iopub.status.busy": "2023-07-26T06:08:22.776542Z",
          "iopub.execute_input": "2023-07-26T06:08:22.777049Z"
        },
        "trusted": true,
        "colab": {
          "base_uri": "https://localhost:8080/"
        },
        "outputId": "8ebbf7ff-7746-4f28-b73e-417967e57fe6"
      },
      "execution_count": null,
      "outputs": [
        {
          "output_type": "stream",
          "name": "stdout",
          "text": [
            "\n",
            "Model: Random Forest\n",
            "Accuracy: 0.93\n",
            "Precision: 0.93\n",
            "Recall: 0.93\n",
            "F1 Score: 0.93\n"
          ]
        },
        {
          "output_type": "stream",
          "name": "stderr",
          "text": [
            "/usr/local/lib/python3.10/dist-packages/sklearn/metrics/_classification.py:1344: UndefinedMetricWarning: Precision is ill-defined and being set to 0.0 in labels with no predicted samples. Use `zero_division` parameter to control this behavior.\n",
            "  _warn_prf(average, modifier, msg_start, len(result))\n"
          ]
        },
        {
          "output_type": "stream",
          "name": "stdout",
          "text": [
            "\n",
            "Model: Logistic Regression\n",
            "Accuracy: 0.90\n",
            "Precision: 0.81\n",
            "Recall: 0.90\n",
            "F1 Score: 0.85\n"
          ]
        },
        {
          "output_type": "stream",
          "name": "stderr",
          "text": [
            "/usr/local/lib/python3.10/dist-packages/sklearn/metrics/_classification.py:1344: UndefinedMetricWarning: Precision is ill-defined and being set to 0.0 in labels with no predicted samples. Use `zero_division` parameter to control this behavior.\n",
            "  _warn_prf(average, modifier, msg_start, len(result))\n"
          ]
        },
        {
          "output_type": "stream",
          "name": "stdout",
          "text": [
            "\n",
            "Model: SVM\n",
            "Accuracy: 0.90\n",
            "Precision: 0.81\n",
            "Recall: 0.90\n",
            "F1 Score: 0.85\n",
            "\n",
            "Model: K-Nearest Neighbors\n",
            "Accuracy: 0.90\n",
            "Precision: 0.86\n",
            "Recall: 0.90\n",
            "F1 Score: 0.87\n",
            "\n",
            "Model: Naive Bayes\n",
            "Accuracy: 0.89\n",
            "Precision: 0.85\n",
            "Recall: 0.89\n",
            "F1 Score: 0.86\n",
            "\n",
            "Model: Decision Tree\n",
            "Accuracy: 0.93\n",
            "Precision: 0.93\n",
            "Recall: 0.93\n",
            "F1 Score: 0.93\n"
          ]
        },
        {
          "output_type": "stream",
          "name": "stderr",
          "text": [
            "/usr/local/lib/python3.10/dist-packages/sklearn/metrics/_classification.py:1344: UndefinedMetricWarning: Precision is ill-defined and being set to 0.0 in labels with no predicted samples. Use `zero_division` parameter to control this behavior.\n",
            "  _warn_prf(average, modifier, msg_start, len(result))\n"
          ]
        }
      ]
    },
    {
      "cell_type": "markdown",
      "source": [
        "------------------- Decision tree is best amoung all -----------------------------\n",
        "\n",
        "Model: Decision Tree\n",
        "\n",
        "Accuracy: 0.94\n",
        "\n",
        "Precision: 0.94\n",
        "\n",
        "Recall: 0.94\n",
        "\n",
        "F1 Score: 0.94"
      ],
      "metadata": {
        "id": "v7vdIX4F4At5"
      }
    },
    {
      "cell_type": "markdown",
      "source": [
        "# SQL QUIRIES"
      ],
      "metadata": {
        "id": "Tcdp2_Em7ZEc"
      }
    },
    {
      "cell_type": "code",
      "source": [
        "import pymysql\n",
        "\n",
        "# Connect to the MySQL database\n",
        "connection = pymysql.connect(host='localhost',\n",
        "                             user='username',\n",
        "                             password='password',\n",
        "                             db='database_name')\n",
        "\n",
        "# Create a cursor object\n",
        "cursor = connection.cursor()\n",
        "\n",
        "# Find the number of corona patients who faced shortness of breath\n",
        "query1 = \"SELECT COUNT(*) FROM corona_tested_006 WHERE `Shortness of breath` = 1 AND `Corona report` = 'positive'\"\n",
        "cursor.execute(query1)\n",
        "num_patients = cursor.fetchone()[0]\n",
        "print(\"Number of corona patients who faced shortness of breath:\", num_patients)\n",
        "\n",
        "# Find the number of negative corona patients who have fever and sore throat\n",
        "query2 = \"SELECT COUNT(*) FROM corona_tested_006 WHERE `Fever` = 1 AND `Sore throat` = 1 AND `Corona report` = 'negative'\"\n",
        "cursor.execute(query2)\n",
        "num_negative_patients = cursor.fetchone()[0]\n",
        "print(\"Number of negative corona patients who have fever and sore throat:\", num_negative_patients)\n",
        "\n",
        "# Group the data by month and rank the number of positive cases\n",
        "query3 = \"SELECT MONTH(`Test date`) AS `Month`, COUNT(*) AS `Number of positive cases` FROM corona_tested_006 WHERE `Corona report` = 'positive' GROUP BY MONTH(`Test date`) ORDER BY COUNT(*) DESC\"\n",
        "cursor.execute(query3)\n",
        "positive_cases_by_month = cursor.fetchall()\n",
        "for row in positive_cases_by_month:\n",
        "    print(\"Month:\", row[0], \"Number of positive cases:\", row[1])\n",
        "\n",
        "# Find the female negative corona patients who faced cough and headache\n",
        "query4 = \"SELECT COUNT(*) FROM corona_tested_006 WHERE `Sex` = 'female' AND `Cough` = 1 AND `Headache` = 1 AND `Corona report` = 'negative'\"\n",
        "cursor.execute(query4)\n",
        "num_female_negative_patients = cursor.fetchone()[0]\n",
        "print(\"Number of female negative corona patients who faced cough and headache:\", num_female_negative_patients)\n",
        "\n",
        "# How many elderly corona patients have faced breathing problems?\n",
        "query5 = \"SELECT COUNT(*) FROM corona_tested_006 WHERE `Age ≥60 above years` = 1 AND `Shortness of breath` = 1 AND `Corona report` = 'positive'\"\n",
        "cursor.execute(query5)\n",
        "num_elderly_patients = cursor.fetchone()[0]\n",
        "print(\"Number of elderly corona patients who faced breathing problems:\", num_elderly_patients)\n",
        "\n",
        "# Which three symptoms were more common among COVID positive patients?\n",
        "query6 = \"SELECT `Cough`, `Fever`, `Sore throat`, `Shortness of breath`, `Headache` FROM corona_tested_006 WHERE `Corona report` = 'positive'\"\n",
        "cursor.execute(query6)\n",
        "positive_symptoms = cursor.fetchall()[0]\n",
        "sorted_symptoms = sorted(positive_symptoms, reverse=True)\n",
        "most_common_symptoms = sorted_symptoms[:3]\n",
        "print(\"Three most common symptoms among COVID positive patients:\", most_common_symptoms)\n",
        "\n",
        "# Which symptom was less common among COVID negative people?\n",
        "query7 = \"SELECT `Cough`, `Fever`, `Sore throat`, `Shortness of breath`, `Headache` FROM corona_tested_006 WHERE `Corona report` = 'negative'\"\n",
        "cursor.execute(query7)\n",
        "negative_symptoms = cursor.fetchall()[0]\n",
        "sorted_symptoms = sorted(negative_symptoms)\n",
        "least_common_symptom = sorted_symptoms[0]\n",
        "print(\"Least common symptom among COVID negative people:\", least_common_symptom)\n",
        "\n",
        "# What are the most common symptoms among COVID positive males whose known contact was abroad?\n",
        "query8 = \"SELECT `Cough`, `Fever`, `Sore throat`, `Shortness of breath`, `Headache` FROM corona_tested_006 WHERE `Corona report` = 'positive' AND `Sex` = 'male' AND `Known contact with an individual confirmed to have COVID-19` = 1\"\n",
        "cursor.execute(query8)\n",
        "male_abroad_symptoms = cursor.fetchall()[0]\n",
        "sorted_symptoms = sorted(male_abroad_symptoms, reverse=True)\n",
        "most_common_symptoms = sorted_symptoms[:3]\n",
        "print(\"Three most common symptoms among COVID positive males whose known contact was abroad:\", most_common_symptoms)\n",
        "\n",
        "# Close the cursor and connection\n",
        "cursor.close()\n",
        "connection.close()\n"
      ],
      "metadata": {
        "id": "4GnZ6_CiWWmt",
        "execution": {
          "iopub.status.busy": "2023-07-26T06:06:16.948816Z",
          "iopub.status.idle": "2023-07-26T06:06:16.94968Z",
          "shell.execute_reply.started": "2023-07-26T06:06:16.949371Z",
          "shell.execute_reply": "2023-07-26T06:06:16.949399Z"
        },
        "trusted": true,
        "colab": {
          "base_uri": "https://localhost:8080/",
          "height": 384
        },
        "outputId": "320956e6-9ab4-473c-ca7b-e2c887bb550c"
      },
      "execution_count": null,
      "outputs": [
        {
          "output_type": "error",
          "ename": "ModuleNotFoundError",
          "evalue": "ignored",
          "traceback": [
            "\u001b[0;31m---------------------------------------------------------------------------\u001b[0m",
            "\u001b[0;31mModuleNotFoundError\u001b[0m                       Traceback (most recent call last)",
            "\u001b[0;32m<ipython-input-24-e1f5ee87a54e>\u001b[0m in \u001b[0;36m<cell line: 1>\u001b[0;34m()\u001b[0m\n\u001b[0;32m----> 1\u001b[0;31m \u001b[0;32mimport\u001b[0m \u001b[0mpymysql\u001b[0m\u001b[0;34m\u001b[0m\u001b[0;34m\u001b[0m\u001b[0m\n\u001b[0m\u001b[1;32m      2\u001b[0m \u001b[0;34m\u001b[0m\u001b[0m\n\u001b[1;32m      3\u001b[0m \u001b[0;31m# Connect to the MySQL database\u001b[0m\u001b[0;34m\u001b[0m\u001b[0;34m\u001b[0m\u001b[0m\n\u001b[1;32m      4\u001b[0m connection = pymysql.connect(host='localhost',\n\u001b[1;32m      5\u001b[0m                              \u001b[0muser\u001b[0m\u001b[0;34m=\u001b[0m\u001b[0;34m'username'\u001b[0m\u001b[0;34m,\u001b[0m\u001b[0;34m\u001b[0m\u001b[0;34m\u001b[0m\u001b[0m\n",
            "\u001b[0;31mModuleNotFoundError\u001b[0m: No module named 'pymysql'",
            "",
            "\u001b[0;31m---------------------------------------------------------------------------\u001b[0;32m\nNOTE: If your import is failing due to a missing package, you can\nmanually install dependencies using either !pip or !apt.\n\nTo view examples of installing some common dependencies, click the\n\"Open Examples\" button below.\n\u001b[0;31m---------------------------------------------------------------------------\u001b[0m\n"
          ],
          "errorDetails": {
            "actions": [
              {
                "action": "open_url",
                "actionText": "Open Examples",
                "url": "/notebooks/snippets/importing_libraries.ipynb"
              }
            ]
          }
        }
      ]
    }
  ]
}